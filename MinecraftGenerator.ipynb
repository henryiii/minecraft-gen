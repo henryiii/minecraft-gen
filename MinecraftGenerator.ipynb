{
 "cells": [
  {
   "cell_type": "markdown",
   "id": "76bf0ea2",
   "metadata": {},
   "source": [
    "# Imports and parameters"
   ]
  },
  {
   "cell_type": "code",
   "execution_count": null,
   "id": "87511ff6",
   "metadata": {},
   "outputs": [],
   "source": [
    "import numpy as np\n",
    "from matplotlib import pyplot as plt\n",
    "from scipy.ndimage import binary_dilation, gaussian_filter\n",
    "from scipy.special import expit"
   ]
  },
  {
   "cell_type": "code",
   "execution_count": null,
   "id": "68b841cc",
   "metadata": {},
   "outputs": [],
   "source": [
    "size = 1024\n",
    "n = 256\n",
    "map_seed = 762345"
   ]
  },
  {
   "cell_type": "code",
   "execution_count": null,
   "id": "30fa0fcc",
   "metadata": {},
   "outputs": [],
   "source": [
    "np.random.seed(map_seed)"
   ]
  },
  {
   "cell_type": "markdown",
   "id": "bd3dc5a4",
   "metadata": {},
   "source": [
    "# Voronoi diagram"
   ]
  },
  {
   "cell_type": "code",
   "execution_count": null,
   "id": "f7213569",
   "metadata": {},
   "outputs": [],
   "source": [
    "from minecraft_gen import voronoi, voronoi_map"
   ]
  },
  {
   "cell_type": "code",
   "execution_count": null,
   "id": "d6aa833f",
   "metadata": {},
   "outputs": [],
   "source": [
    "points = np.random.randint(0, size, (514, 2))\n",
    "vor = voronoi(points, size)\n",
    "vor_map = voronoi_map(vor, size)"
   ]
  },
  {
   "cell_type": "code",
   "execution_count": null,
   "id": "daf12ee6",
   "metadata": {},
   "outputs": [],
   "source": [
    "fig, ax = plt.subplots(dpi=150, figsize=(4, 4))\n",
    "ax.scatter(*points.T, marker=\".\", color=\"r\")\n",
    "ax.imshow(vor_map);"
   ]
  },
  {
   "cell_type": "markdown",
   "id": "f58ae862",
   "metadata": {},
   "source": [
    "# Lloyd's relaxation"
   ]
  },
  {
   "cell_type": "code",
   "execution_count": null,
   "id": "ae9ba532",
   "metadata": {},
   "outputs": [],
   "source": [
    "from minecraft_gen import relax"
   ]
  },
  {
   "cell_type": "code",
   "execution_count": null,
   "id": "59c8e6f7",
   "metadata": {},
   "outputs": [],
   "source": [
    "points = relax(points, size, k=100)\n",
    "vor = voronoi(points, size)\n",
    "vor_map = voronoi_map(vor, size)"
   ]
  },
  {
   "cell_type": "code",
   "execution_count": null,
   "id": "799e6834",
   "metadata": {},
   "outputs": [],
   "source": [
    "fig, ax = plt.subplots(dpi=150, figsize=(4, 4))\n",
    "ax.scatter(*points.T, marker=\".\", color=\"r\")\n",
    "ax.imshow(vor_map);"
   ]
  },
  {
   "cell_type": "markdown",
   "id": "0da52333",
   "metadata": {},
   "source": [
    "# Perlin noise / Simplex noise"
   ]
  },
  {
   "cell_type": "code",
   "execution_count": null,
   "id": "e69cb5a4",
   "metadata": {},
   "outputs": [],
   "source": [
    "from minecraft_gen import blur_boundaries"
   ]
  },
  {
   "cell_type": "markdown",
   "id": "703cf3d3",
   "metadata": {},
   "source": [
    "# Bluring the boundaries"
   ]
  },
  {
   "cell_type": "code",
   "execution_count": null,
   "id": "7a2b96bd",
   "metadata": {},
   "outputs": [],
   "source": [
    "blurred_vor_map = blur_boundaries(\n",
    "    vor_map, size=size, map_seed=map_seed, boundary_displacement=8\n",
    ")"
   ]
  },
  {
   "cell_type": "code",
   "execution_count": null,
   "id": "c895a3a6",
   "metadata": {
    "scrolled": true
   },
   "outputs": [],
   "source": [
    "fig, axs = plt.subplots(1, 2, figsize=(8, 4), dpi=150)\n",
    "axs[0].imshow(vor_map)\n",
    "axs[1].imshow(blurred_vor_map);"
   ]
  },
  {
   "cell_type": "code",
   "execution_count": null,
   "id": "94dc7452",
   "metadata": {},
   "outputs": [],
   "source": [
    "vor_map = blurred_vor_map"
   ]
  },
  {
   "cell_type": "markdown",
   "id": "8d193d77",
   "metadata": {},
   "source": [
    "# Choosing Biomes"
   ]
  },
  {
   "cell_type": "code",
   "execution_count": null,
   "id": "4fdb22fd-eb35-4308-9e30-d00e5ef61d9a",
   "metadata": {},
   "outputs": [],
   "source": [
    "from minecraft_gen import noise_map"
   ]
  },
  {
   "cell_type": "markdown",
   "id": "220f5a14",
   "metadata": {},
   "source": [
    "## Temperature–Precipitation maps"
   ]
  },
  {
   "cell_type": "code",
   "execution_count": null,
   "id": "658b059c",
   "metadata": {},
   "outputs": [],
   "source": [
    "temperature_map = noise_map(size, 2, 10, map_seed=map_seed)\n",
    "precipitation_map = noise_map(size, 2, 20, map_seed=map_seed)"
   ]
  },
  {
   "cell_type": "code",
   "execution_count": null,
   "id": "313b4ad7",
   "metadata": {},
   "outputs": [],
   "source": [
    "fig, axs = plt.subplots(1, 2, figsize=(8, 4), dpi=150)\n",
    "\n",
    "axs[0].imshow(temperature_map, cmap=\"rainbow\")\n",
    "axs[0].set_title(\"Temperature Map\")\n",
    "\n",
    "axs[1].imshow(precipitation_map, cmap=\"YlGnBu\")\n",
    "axs[1].set_title(\"Precipitation Map\");"
   ]
  },
  {
   "cell_type": "markdown",
   "id": "e11e8a7b",
   "metadata": {},
   "source": [
    "## Histogram Equalization"
   ]
  },
  {
   "cell_type": "code",
   "execution_count": null,
   "id": "9432f414",
   "metadata": {},
   "outputs": [],
   "source": [
    "fig, axs = plt.subplots(1, 2, figsize=(8, 4), dpi=150)\n",
    "\n",
    "axs[0].hist(\n",
    "    temperature_map.flatten(),\n",
    "    bins=64,\n",
    "    color=\"blue\",\n",
    "    alpha=0.66,\n",
    "    label=\"Precipitation\",\n",
    ")\n",
    "axs[0].hist(\n",
    "    precipitation_map.flatten(),\n",
    "    bins=64,\n",
    "    color=\"red\",\n",
    "    alpha=0.66,\n",
    "    label=\"Temperature\",\n",
    ")\n",
    "axs[0].set_xlim(-1, 1)\n",
    "axs[0].legend()\n",
    "\n",
    "hist2d = np.histogram2d(\n",
    "    temperature_map.flatten(),\n",
    "    precipitation_map.flatten(),\n",
    "    bins=(512, 512),\n",
    "    range=((-1, 1), (-1, 1)),\n",
    ")[0]\n",
    "\n",
    "hist2d = np.interp(hist2d, (hist2d.min(), hist2d.max()), (0, 1))\n",
    "hist2d = expit(hist2d / 0.1)\n",
    "\n",
    "axs[1].imshow(hist2d, cmap=\"plasma\")\n",
    "\n",
    "axs[1].set_xticks([0, 128, 256, 385, 511])\n",
    "axs[1].set_xticklabels([-1, -0.5, 0, 0.5, 1])\n",
    "axs[1].set_yticks([0, 128, 256, 385, 511])\n",
    "axs[1].set_yticklabels([1, 0.5, 0, -0.5, -1]);"
   ]
  },
  {
   "cell_type": "code",
   "execution_count": null,
   "id": "58cf4298",
   "metadata": {},
   "outputs": [],
   "source": [
    "from minecraft_gen import histeq"
   ]
  },
  {
   "cell_type": "code",
   "execution_count": null,
   "id": "5c518abc",
   "metadata": {},
   "outputs": [],
   "source": [
    "uniform_temperature_map = histeq(temperature_map, alpha=0.33)\n",
    "uniform_precipitation_map = histeq(precipitation_map, alpha=0.33)"
   ]
  },
  {
   "cell_type": "code",
   "execution_count": null,
   "id": "35c95beb",
   "metadata": {},
   "outputs": [],
   "source": [
    "fig, axs = plt.subplots(1, 2, figsize=(8, 4), dpi=150)\n",
    "\n",
    "axs[0].hist(\n",
    "    uniform_temperature_map.flatten(),\n",
    "    bins=64,\n",
    "    color=\"blue\",\n",
    "    alpha=0.66,\n",
    "    label=\"Precipitation\",\n",
    ")\n",
    "axs[0].hist(\n",
    "    uniform_precipitation_map.flatten(),\n",
    "    bins=64,\n",
    "    color=\"red\",\n",
    "    alpha=0.66,\n",
    "    label=\"Temperature\",\n",
    ")\n",
    "axs[0].set_xlim(-1, 1)\n",
    "axs[0].legend()\n",
    "\n",
    "hist2d = np.histogram2d(\n",
    "    uniform_temperature_map.flatten(),\n",
    "    uniform_precipitation_map.flatten(),\n",
    "    bins=(512, 512),\n",
    "    range=((-1, 1), (-1, 1)),\n",
    ")[0]\n",
    "\n",
    "hist2d = np.interp(hist2d, (hist2d.min(), hist2d.max()), (0, 1))\n",
    "hist2d = expit(hist2d / 0.1)\n",
    "\n",
    "axs[1].imshow(hist2d, cmap=\"plasma\")\n",
    "\n",
    "axs[1].set_xticks([0, 128, 256, 385, 511])\n",
    "axs[1].set_xticklabels([-1, -0.5, 0, 0.5, 1])\n",
    "axs[1].set_yticks([0, 128, 256, 385, 511])\n",
    "axs[1].set_yticklabels([1, 0.5, 0, -0.5, -1]);"
   ]
  },
  {
   "cell_type": "code",
   "execution_count": null,
   "id": "46045e95",
   "metadata": {},
   "outputs": [],
   "source": [
    "temperature_map = uniform_temperature_map\n",
    "precipitation_map = uniform_precipitation_map"
   ]
  },
  {
   "cell_type": "markdown",
   "id": "aef6de4d",
   "metadata": {},
   "source": [
    "## Averaging Cells"
   ]
  },
  {
   "cell_type": "code",
   "execution_count": null,
   "id": "5b0dd9aa",
   "metadata": {},
   "outputs": [],
   "source": [
    "from minecraft_gen import average_cells, color_cells, fill_cells"
   ]
  },
  {
   "cell_type": "code",
   "execution_count": null,
   "id": "4068488e",
   "metadata": {},
   "outputs": [],
   "source": [
    "temperature_cells = average_cells(vor_map, temperature_map)\n",
    "precipitation_cells = average_cells(vor_map, precipitation_map)\n",
    "\n",
    "temperature_map = fill_cells(vor_map, temperature_cells)\n",
    "precipitation_map = fill_cells(vor_map, precipitation_cells)"
   ]
  },
  {
   "cell_type": "code",
   "execution_count": null,
   "id": "1093f5a5",
   "metadata": {},
   "outputs": [],
   "source": [
    "fig, axs = plt.subplots(1, 2, figsize=(8, 4), dpi=150)\n",
    "\n",
    "axs[0].imshow(temperature_map, cmap=\"rainbow\")\n",
    "axs[0].set_title(\"Temperature\")\n",
    "\n",
    "axs[1].imshow(precipitation_map, cmap=\"Blues\")\n",
    "axs[1].set_title(\"Precipitation\");"
   ]
  },
  {
   "cell_type": "markdown",
   "id": "1e5a41ec",
   "metadata": {},
   "source": [
    "## Quantization"
   ]
  },
  {
   "cell_type": "code",
   "execution_count": null,
   "id": "78530c5a",
   "metadata": {},
   "outputs": [],
   "source": [
    "from minecraft_gen import quantize\n",
    "\n",
    "quantize_temperature_cells = quantize(temperature_cells, n)\n",
    "quantize_precipitation_cells = quantize(precipitation_cells, n)\n",
    "\n",
    "quantize_temperature_map = fill_cells(vor_map, quantize_temperature_cells)\n",
    "quantize_precipitation_map = fill_cells(vor_map, quantize_precipitation_cells)"
   ]
  },
  {
   "cell_type": "code",
   "execution_count": null,
   "id": "ef187ab5",
   "metadata": {},
   "outputs": [],
   "source": [
    "temperature_cells = quantize_temperature_cells\n",
    "precipitation_cells = quantize_precipitation_cells\n",
    "\n",
    "temperature_map = quantize_temperature_map\n",
    "precipitation_map = quantize_precipitation_map"
   ]
  },
  {
   "cell_type": "markdown",
   "id": "1bac57ae",
   "metadata": {},
   "source": [
    "## Temperature–Precipitation graph"
   ]
  },
  {
   "cell_type": "code",
   "execution_count": null,
   "id": "406b6c9f",
   "metadata": {},
   "outputs": [],
   "source": [
    "from minecraft_gen import get_biomes\n",
    "\n",
    "biome_names, biome_colors, biomes = get_biomes(\"orig/output/TP_map.png\")"
   ]
  },
  {
   "cell_type": "code",
   "execution_count": null,
   "id": "76ba84b8",
   "metadata": {},
   "outputs": [],
   "source": [
    "fig, ax = plt.subplots(dpi=150, figsize=(4, 4))\n",
    "ax.imshow(biomes)\n",
    "ax.set_title(\"Temperature-Precipitation graph\");"
   ]
  },
  {
   "cell_type": "markdown",
   "id": "e490e386",
   "metadata": {},
   "source": [
    "## Biome map"
   ]
  },
  {
   "cell_type": "code",
   "execution_count": null,
   "id": "c331d44e",
   "metadata": {},
   "outputs": [],
   "source": [
    "from minecraft_gen import compute_biome_map\n",
    "\n",
    "biome_map = compute_biome_map(temperature_cells, precipitation_cells, biomes, vor_map)\n",
    "biome_color_map = color_cells(biome_map, biome_colors)"
   ]
  },
  {
   "cell_type": "code",
   "execution_count": null,
   "id": "689422fd",
   "metadata": {},
   "outputs": [],
   "source": [
    "fig, ax = plt.subplots(figsize=(5, 5), dpi=150)\n",
    "ax.imshow(biome_color_map);"
   ]
  },
  {
   "cell_type": "markdown",
   "id": "9eb86a13",
   "metadata": {},
   "source": [
    "# Height Map"
   ]
  },
  {
   "cell_type": "code",
   "execution_count": null,
   "id": "e0b682fa",
   "metadata": {},
   "outputs": [],
   "source": [
    "height_map = noise_map(\n",
    "    size,\n",
    "    4,\n",
    "    0,\n",
    "    octaves=6,\n",
    "    persistence=0.5,\n",
    "    lacunarity=2,\n",
    "    map_seed=map_seed,\n",
    ")\n",
    "land_mask = height_map > 0"
   ]
  },
  {
   "cell_type": "code",
   "execution_count": null,
   "id": "ccd38b3c",
   "metadata": {},
   "outputs": [],
   "source": [
    "fig, ax = plt.subplots(dpi=150, figsize=(5, 5))\n",
    "ax.imshow(land_mask, cmap=\"gray\");"
   ]
  },
  {
   "cell_type": "code",
   "execution_count": null,
   "id": "041398f7",
   "metadata": {},
   "outputs": [],
   "source": [
    "sea_color = np.array([12, 14, 255])\n",
    "land_mask_color = np.repeat(land_mask[:, :, np.newaxis], 3, axis=-1)\n",
    "masked_biome_color_map = (\n",
    "    land_mask_color * biome_color_map + (1 - land_mask_color) * sea_color\n",
    ")"
   ]
  },
  {
   "cell_type": "code",
   "execution_count": null,
   "id": "c4539f15",
   "metadata": {},
   "outputs": [],
   "source": [
    "fig, ax = plt.subplots(dpi=150, figsize=(5, 5))\n",
    "ax.imshow(masked_biome_color_map);"
   ]
  },
  {
   "cell_type": "code",
   "execution_count": null,
   "id": "83c6c9ba",
   "metadata": {},
   "outputs": [],
   "source": [
    "# https://github.com/Mehdi-Antoine/NormalMapGenerator\n",
    "\n",
    "from minecraft_gen import apply_height_map"
   ]
  },
  {
   "cell_type": "code",
   "execution_count": null,
   "id": "452703a2",
   "metadata": {},
   "outputs": [],
   "source": [
    "biome_height_map, normal_map = apply_height_map(\n",
    "    masked_biome_color_map,\n",
    "    height_map,\n",
    "    height_map,\n",
    "    land_mask,\n",
    ")\n",
    "\n",
    "fig, axs = plt.subplots(1, 2, figsize=(10, 5), dpi=150)\n",
    "\n",
    "axs[0].imshow(masked_biome_color_map)\n",
    "axs[0].set_title(\"Biomes\")\n",
    "\n",
    "axs[1].imshow(np.clip(biome_height_map, 0, 255))\n",
    "axs[1].set_title(\"Biomes with normal\");"
   ]
  },
  {
   "cell_type": "markdown",
   "id": "525159ad",
   "metadata": {},
   "source": [
    "## Height Map Detail"
   ]
  },
  {
   "cell_type": "code",
   "execution_count": null,
   "id": "b1971fd0",
   "metadata": {},
   "outputs": [],
   "source": [
    "height_map = noise_map(\n",
    "    size,\n",
    "    4,\n",
    "    0,\n",
    "    octaves=6,\n",
    "    persistence=0.5,\n",
    "    lacunarity=2,\n",
    "    map_seed=map_seed,\n",
    ")\n",
    "smooth_height_map = noise_map(\n",
    "    size,\n",
    "    4,\n",
    "    0,\n",
    "    octaves=1,\n",
    "    persistence=0.5,\n",
    "    lacunarity=2,\n",
    "    map_seed=map_seed,\n",
    ")"
   ]
  },
  {
   "cell_type": "code",
   "execution_count": null,
   "id": "b8362745",
   "metadata": {},
   "outputs": [],
   "source": [
    "fig, axs = plt.subplots(1, 2, figsize=(10, 5), dpi=150)\n",
    "\n",
    "axs[0].imshow(height_map, cmap=\"gray\")\n",
    "axs[0].set_title(\"Height Map\")\n",
    "\n",
    "axs[1].imshow(smooth_height_map, cmap=\"gray\")\n",
    "axs[1].set_title(\"Smooth Height Map\");"
   ]
  },
  {
   "cell_type": "markdown",
   "id": "df3bba09",
   "metadata": {},
   "source": [
    "## Height Map Filters"
   ]
  },
  {
   "cell_type": "markdown",
   "id": "2634f2d0",
   "metadata": {},
   "source": [
    "### Bézier Curves"
   ]
  },
  {
   "cell_type": "code",
   "execution_count": null,
   "id": "2df73468-03e2-4290-8739-ca49380b1341",
   "metadata": {},
   "outputs": [],
   "source": [
    "from minecraft_gen import filter_map"
   ]
  },
  {
   "cell_type": "markdown",
   "id": "190de016",
   "metadata": {},
   "source": [
    "### Filters"
   ]
  },
  {
   "cell_type": "code",
   "execution_count": null,
   "id": "d7ca3f1f",
   "metadata": {},
   "outputs": [],
   "source": [
    "biome_height_maps = [\n",
    "    # Desert\n",
    "    filter_map(height_map, smooth_height_map, 0.75, 0.2, 0.95, 0.2, 0.2, 0.5),\n",
    "    # Savanna\n",
    "    filter_map(height_map, smooth_height_map, 0.5, 0.1, 0.95, 0.1, 0.1, 0.2),\n",
    "    # Tropical Woodland\n",
    "    filter_map(height_map, smooth_height_map, 0.33, 0.33, 0.95, 0.1, 0.1, 0.75),\n",
    "    # Tundra\n",
    "    filter_map(height_map, smooth_height_map, 0.5, 1, 0.25, 1, 1, 1),\n",
    "    # Seasonal Forest\n",
    "    filter_map(height_map, smooth_height_map, 0.75, 0.5, 0.4, 0.4, 0.33, 0.2),\n",
    "    # Rainforest\n",
    "    filter_map(height_map, smooth_height_map, 0.5, 0.25, 0.66, 1, 1, 0.5),\n",
    "    # Temperate forest\n",
    "    filter_map(height_map, smooth_height_map, 0.75, 0.5, 0.4, 0.4, 0.33, 0.33),\n",
    "    # Temperate Rainforest\n",
    "    filter_map(height_map, smooth_height_map, 0.75, 0.5, 0.4, 0.4, 0.33, 0.33),\n",
    "    # Boreal\n",
    "    filter_map(height_map, smooth_height_map, 0.8, 0.1, 0.9, 0.05, 0.05, 0.1),\n",
    "]"
   ]
  },
  {
   "cell_type": "markdown",
   "id": "876774b7",
   "metadata": {},
   "source": [
    "### Biome masks"
   ]
  },
  {
   "cell_type": "code",
   "execution_count": null,
   "id": "e9326d69",
   "metadata": {},
   "outputs": [],
   "source": [
    "biome_count = len(biome_names)\n",
    "biome_masks = np.zeros((biome_count, size, size))\n",
    "\n",
    "for i in range(biome_count):\n",
    "    biome_masks[i, biome_map == i] = 1\n",
    "    biome_masks[i] = gaussian_filter(biome_masks[i], sigma=16)\n",
    "\n",
    "# Remove ocean from masks\n",
    "blurred_land_mask = land_mask\n",
    "blurred_land_mask = binary_dilation(land_mask, iterations=32).astype(np.float64)\n",
    "blurred_land_mask = gaussian_filter(blurred_land_mask, sigma=16)\n",
    "\n",
    "biome_masks = biome_masks * blurred_land_mask"
   ]
  },
  {
   "cell_type": "code",
   "execution_count": null,
   "id": "31522045",
   "metadata": {},
   "outputs": [],
   "source": [
    "fig, ax = plt.subplots(dpi=150, figsize=(5, 5))\n",
    "ax.imshow(biome_masks[6], cmap=\"gray\");"
   ]
  },
  {
   "cell_type": "markdown",
   "id": "747cc88c",
   "metadata": {},
   "source": [
    "### Applying Filters"
   ]
  },
  {
   "cell_type": "code",
   "execution_count": null,
   "id": "50360601",
   "metadata": {},
   "outputs": [],
   "source": [
    "adjusted_height_map = height_map.copy()\n",
    "\n",
    "for bm, bhm in zip(biome_masks, biome_height_maps):\n",
    "    adjusted_height_map = (1 - bm) * adjusted_height_map + bm * bhm"
   ]
  },
  {
   "cell_type": "code",
   "execution_count": null,
   "id": "42abe3d4",
   "metadata": {},
   "outputs": [],
   "source": [
    "biome_height_map = apply_height_map(\n",
    "    masked_biome_color_map,\n",
    "    height_map,\n",
    "    height_map,\n",
    "    land_mask,\n",
    ")\n",
    "new_biome_height_map = apply_height_map(\n",
    "    masked_biome_color_map,\n",
    "    adjusted_height_map,\n",
    "    adjusted_height_map,\n",
    "    land_mask,\n",
    ")\n",
    "\n",
    "fig, ax = plt.subplots(1, 2, figsize=(10, 5), dpi=150)\n",
    "\n",
    "ax[0].imshow(adjusted_height_map)\n",
    "ax[0].set_title(\"Before\")\n",
    "\n",
    "ax[1].imshow(np.clip(new_biome_height_map[0], 0, 255))\n",
    "ax[1].set_title(\"After\");"
   ]
  },
  {
   "cell_type": "markdown",
   "id": "d686d4c9",
   "metadata": {},
   "source": [
    "# Rivers"
   ]
  },
  {
   "cell_type": "markdown",
   "id": "f1af9ed7",
   "metadata": {},
   "source": [
    "## Boundaries"
   ]
  },
  {
   "cell_type": "code",
   "execution_count": null,
   "id": "da069a29",
   "metadata": {},
   "outputs": [],
   "source": [
    "from minecraft_gen import get_boundary"
   ]
  },
  {
   "cell_type": "code",
   "execution_count": null,
   "id": "64b8248d",
   "metadata": {},
   "outputs": [],
   "source": [
    "biome_bound = get_boundary(biome_map, kernel=5, size=size)\n",
    "cell_bound = get_boundary(vor_map, kernel=2, size=size)"
   ]
  },
  {
   "cell_type": "code",
   "execution_count": null,
   "id": "c74fbcc2",
   "metadata": {},
   "outputs": [],
   "source": [
    "river_mask = (\n",
    "    noise_map(\n",
    "        size,\n",
    "        4,\n",
    "        4353,\n",
    "        octaves=6,\n",
    "        persistence=0.5,\n",
    "        lacunarity=2,\n",
    "        map_seed=map_seed,\n",
    "    )\n",
    "    > 0\n",
    ")\n",
    "\n",
    "new_biome_bound = biome_bound * (adjusted_height_map < 0.5) * land_mask\n",
    "new_cell_bound = cell_bound * (adjusted_height_map < 0.05) * land_mask\n",
    "\n",
    "rivers = np.logical_or(new_biome_bound, new_cell_bound) * river_mask"
   ]
  },
  {
   "cell_type": "code",
   "execution_count": null,
   "id": "b76a7ced",
   "metadata": {},
   "outputs": [],
   "source": [
    "loose_river_mask = binary_dilation(rivers, iterations=8)\n",
    "rivers_height = gaussian_filter(rivers.astype(np.float64), sigma=2) * loose_river_mask"
   ]
  },
  {
   "cell_type": "code",
   "execution_count": null,
   "id": "1006ab38",
   "metadata": {},
   "outputs": [],
   "source": [
    "adjusted_height_river_map = adjusted_height_map * (1 - rivers_height) - 0.05 * rivers"
   ]
  },
  {
   "cell_type": "code",
   "execution_count": null,
   "id": "325d8eba",
   "metadata": {},
   "outputs": [],
   "source": [
    "river_land_mask = adjusted_height_river_map >= 0\n",
    "land_mask_color = np.repeat(river_land_mask[:, :, np.newaxis], 3, axis=-1)\n",
    "rivers_biome_color_map = (\n",
    "    land_mask_color * biome_color_map + (1 - land_mask_color) * sea_color\n",
    ")\n",
    "\n",
    "fig, ax = plt.subplots(dpi=150, figsize=(5, 5))\n",
    "ax.imshow(rivers_biome_color_map);"
   ]
  },
  {
   "cell_type": "code",
   "execution_count": null,
   "id": "2fe5629c",
   "metadata": {},
   "outputs": [],
   "source": [
    "color_map = apply_height_map(\n",
    "    rivers_biome_color_map,\n",
    "    adjusted_height_river_map,\n",
    "    adjusted_height_river_map,\n",
    "    river_land_mask,\n",
    ")\n",
    "plt.imshow(np.clip(color_map[0], 0, 255));"
   ]
  },
  {
   "cell_type": "markdown",
   "id": "f23eae42",
   "metadata": {},
   "source": [
    "# Trees and Vegetation"
   ]
  },
  {
   "cell_type": "code",
   "execution_count": null,
   "id": "c3a55c06",
   "metadata": {},
   "outputs": [],
   "source": [
    "from minecraft_gen import generate_trees, place_trees"
   ]
  },
  {
   "cell_type": "code",
   "execution_count": null,
   "id": "849697df",
   "metadata": {},
   "outputs": [],
   "source": [
    "fix, axs = plt.subplots(1, 3, dpi=150, figsize=(10, 3))\n",
    "densities = [1000, 5000, 25000]\n",
    "names = [\"Low\", \"Medium\", \"High\"]\n",
    "\n",
    "for ax, dens, name in zip(axs, densities, names):\n",
    "    trees = generate_trees(np.random.randint(0, size - 1, (dens, 2)), size=size)\n",
    "\n",
    "    ax.scatter(*trees.T, s=1)\n",
    "    ax.set_title(f\"{name} Density Trees\")\n",
    "    ax.set_xlim(0, 256)\n",
    "    ax.set_ylim(0, 256)"
   ]
  },
  {
   "cell_type": "code",
   "execution_count": null,
   "id": "19961e34",
   "metadata": {},
   "outputs": [],
   "source": [
    "tree_densities = [4000, 1500, 8000, 1000, 10000, 25000, 10000, 20000, 5000]\n",
    "trees = [\n",
    "    np.array(\n",
    "        place_trees(\n",
    "            generate_trees(np.random.randint(0, size - 1, (dens, 2)), size=size),\n",
    "            bio_mask,\n",
    "            river_land_mask=river_land_mask,\n",
    "            adjusted_height_river_map=adjusted_height_river_map,\n",
    "            size=size,\n",
    "        ),\n",
    "    )\n",
    "    for dens, bio_mask in zip(tree_densities, biome_masks)\n",
    "]"
   ]
  },
  {
   "cell_type": "code",
   "execution_count": null,
   "id": "88904c0f",
   "metadata": {},
   "outputs": [],
   "source": [
    "fig, ax = plt.subplots(dpi=150, figsize=(5, 5))\n",
    "for tree in trees:\n",
    "    ax.scatter(*tree.T, s=0.15, c=\"red\")\n",
    "\n",
    "ax.imshow(np.clip(color_map[0], 0, 255));"
   ]
  },
  {
   "cell_type": "code",
   "execution_count": null,
   "id": "df08115d-6e5b-4870-9494-79198cb70b85",
   "metadata": {},
   "outputs": [],
   "source": [
    "def compute_all(*, size=1024, n=256, map_seed=762345):\n",
    "    gen = np.random.default_rng(map_seed)\n",
    "    points_orig = gen.integers(0, size, (514, 2))\n",
    "    points = relax(points_orig, size, k=100)\n",
    "    vor = voronoi(points, size)\n",
    "    vor_map = voronoi_map(vor, size)\n",
    "    vor_map = blur_boundaries(\n",
    "        vor_map, size=size, map_seed=map_seed, boundary_displacement=8\n",
    "    )\n",
    "\n",
    "    temperature_map = noise_map(size, 2, 10, map_seed=map_seed)\n",
    "    precipitation_map = noise_map(size, 2, 20, map_seed=map_seed)\n",
    "\n",
    "    temperature_map = histeq(temperature_map, alpha=0.33)\n",
    "    precipitation_map = histeq(precipitation_map, alpha=0.33)\n",
    "\n",
    "    temperature_cells = average_cells(vor_map, temperature_map)\n",
    "    precipitation_cells = average_cells(vor_map, precipitation_map)\n",
    "\n",
    "    temperature_map = fill_cells(vor_map, temperature_cells)\n",
    "    precipitation_map = fill_cells(vor_map, precipitation_cells)\n",
    "\n",
    "    temperature_cells = quantize(temperature_cells, n)\n",
    "    precipitation_cells = quantize(precipitation_cells, n)\n",
    "    temperature_map = fill_cells(vor_map, temperature_cells)\n",
    "    precipitation_map = fill_cells(vor_map, precipitation_cells)\n",
    "\n",
    "    biome_names, _, _ = get_biomes(\"orig/output/TP_map.png\")\n",
    "\n",
    "    height_map = noise_map(\n",
    "        size,\n",
    "        4,\n",
    "        0,\n",
    "        octaves=6,\n",
    "        persistence=0.5,\n",
    "        lacunarity=2,\n",
    "        map_seed=map_seed,\n",
    "    )\n",
    "    land_mask = height_map > 0\n",
    "\n",
    "    sea_color = np.array([12, 14, 255])\n",
    "    land_mask_color = np.repeat(land_mask[:, :, np.newaxis], 3, axis=-1)\n",
    "    masked_biome_color_map = (\n",
    "        land_mask_color * biome_color_map + (1 - land_mask_color) * sea_color\n",
    "    )\n",
    "\n",
    "    height_map = noise_map(\n",
    "        size,\n",
    "        4,\n",
    "        0,\n",
    "        octaves=6,\n",
    "        persistence=0.5,\n",
    "        lacunarity=2,\n",
    "        map_seed=map_seed,\n",
    "    )\n",
    "    smooth_height_map = noise_map(\n",
    "        size,\n",
    "        4,\n",
    "        0,\n",
    "        octaves=1,\n",
    "        persistence=0.5,\n",
    "        lacunarity=2,\n",
    "        map_seed=map_seed,\n",
    "    )\n",
    "\n",
    "    biome_height_maps = [\n",
    "        # Desert\n",
    "        filter_map(height_map, smooth_height_map, 0.75, 0.2, 0.95, 0.2, 0.2, 0.5),\n",
    "        # Savanna\n",
    "        filter_map(height_map, smooth_height_map, 0.5, 0.1, 0.95, 0.1, 0.1, 0.2),\n",
    "        # Tropical Woodland\n",
    "        filter_map(height_map, smooth_height_map, 0.33, 0.33, 0.95, 0.1, 0.1, 0.75),\n",
    "        # Tundra\n",
    "        filter_map(height_map, smooth_height_map, 0.5, 1, 0.25, 1, 1, 1),\n",
    "        # Seasonal Forest\n",
    "        filter_map(height_map, smooth_height_map, 0.75, 0.5, 0.4, 0.4, 0.33, 0.2),\n",
    "        # Rainforest\n",
    "        filter_map(height_map, smooth_height_map, 0.5, 0.25, 0.66, 1, 1, 0.5),\n",
    "        # Temperate forest\n",
    "        filter_map(height_map, smooth_height_map, 0.75, 0.5, 0.4, 0.4, 0.33, 0.33),\n",
    "        # Temperate Rainforest\n",
    "        filter_map(height_map, smooth_height_map, 0.75, 0.5, 0.4, 0.4, 0.33, 0.33),\n",
    "        # Boreal\n",
    "        filter_map(height_map, smooth_height_map, 0.8, 0.1, 0.9, 0.05, 0.05, 0.1),\n",
    "    ]\n",
    "\n",
    "    biome_count = len(biome_names)\n",
    "    biome_masks = np.zeros((biome_count, size, size))\n",
    "\n",
    "    for i in range(biome_count):\n",
    "        biome_masks[i, biome_map == i] = 1\n",
    "        biome_masks[i] = gaussian_filter(biome_masks[i], sigma=16)\n",
    "\n",
    "    # Remove ocean from masks\n",
    "    blurred_land_mask = land_mask\n",
    "    blurred_land_mask = binary_dilation(land_mask, iterations=32).astype(np.float64)\n",
    "    blurred_land_mask = gaussian_filter(blurred_land_mask, sigma=16)\n",
    "\n",
    "    biome_masks = biome_masks * blurred_land_mask\n",
    "\n",
    "    adjusted_height_map = height_map.copy()\n",
    "\n",
    "    for bm, bhm in zip(biome_masks, biome_height_maps):\n",
    "        adjusted_height_map = (1 - bm) * adjusted_height_map + bm * bhm\n",
    "\n",
    "    biome_bound = get_boundary(biome_map, kernel=5, size=size)\n",
    "    cell_bound = get_boundary(vor_map, kernel=2, size=size)\n",
    "\n",
    "    river_mask = (\n",
    "        noise_map(\n",
    "            size,\n",
    "            4,\n",
    "            4353,\n",
    "            octaves=6,\n",
    "            persistence=0.5,\n",
    "            lacunarity=2,\n",
    "            map_seed=map_seed,\n",
    "        )\n",
    "        > 0\n",
    "    )\n",
    "\n",
    "    new_biome_bound = biome_bound * (adjusted_height_map < 0.5) * land_mask\n",
    "    new_cell_bound = cell_bound * (adjusted_height_map < 0.05) * land_mask\n",
    "\n",
    "    rivers = np.logical_or(new_biome_bound, new_cell_bound) * river_mask\n",
    "\n",
    "    loose_river_mask = binary_dilation(rivers, iterations=8)\n",
    "    rivers_height = (\n",
    "        gaussian_filter(rivers.astype(np.float64), sigma=2) * loose_river_mask\n",
    "    )\n",
    "\n",
    "    adjusted_height_river_map = (\n",
    "        adjusted_height_map * (1 - rivers_height) - 0.05 * rivers\n",
    "    )\n",
    "\n",
    "    river_land_mask = adjusted_height_river_map >= 0\n",
    "    land_mask_color = np.repeat(river_land_mask[:, :, np.newaxis], 3, axis=-1)\n",
    "    rivers_biome_color_map = (\n",
    "        land_mask_color * biome_color_map + (1 - land_mask_color) * sea_color\n",
    "    )\n",
    "\n",
    "    color_map = apply_height_map(\n",
    "        rivers_biome_color_map,\n",
    "        adjusted_height_river_map,\n",
    "        adjusted_height_river_map,\n",
    "        river_land_mask,\n",
    "    )\n",
    "\n",
    "    tree_densities = [4000, 1500, 8000, 1000, 10000, 25000, 10000, 20000, 5000]\n",
    "    trees = [\n",
    "        np.array(\n",
    "            place_trees(\n",
    "                generate_trees(np.random.randint(0, size - 1, (dens, 2)), size=size),\n",
    "                bio_mask,\n",
    "                river_land_mask=river_land_mask,\n",
    "                adjusted_height_river_map=adjusted_height_river_map,\n",
    "                size=size,\n",
    "            ),\n",
    "        )\n",
    "        for dens, bio_mask in zip(tree_densities, biome_masks)\n",
    "    ]\n",
    "\n",
    "    return color_map, trees"
   ]
  },
  {
   "cell_type": "code",
   "execution_count": null,
   "id": "ba02ce28-f7ee-4bb5-b904-faeafc8aa94c",
   "metadata": {},
   "outputs": [],
   "source": [
    "color_map, trees = compute_all()\n",
    "fig, ax = plt.subplots(dpi=150, figsize=(5, 5))\n",
    "for tree in trees:\n",
    "    ax.scatter(*tree.T, s=0.15, c=\"red\")\n",
    "\n",
    "ax.imshow(np.clip(color_map[0], 0, 255));"
   ]
  }
 ],
 "metadata": {
  "kernelspec": {
   "display_name": "minecraft-gen",
   "language": "python",
   "name": "minecraft-gen"
  },
  "language_info": {
   "codemirror_mode": {
    "name": "ipython",
    "version": 3
   },
   "file_extension": ".py",
   "mimetype": "text/x-python",
   "name": "python",
   "nbconvert_exporter": "python",
   "pygments_lexer": "ipython3",
   "version": "3.11.5"
  }
 },
 "nbformat": 4,
 "nbformat_minor": 5
}
