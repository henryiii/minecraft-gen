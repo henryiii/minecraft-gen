{
 "cells": [
  {
   "cell_type": "markdown",
   "id": "76bf0ea2",
   "metadata": {},
   "source": [
    "# Imports and parameters"
   ]
  },
  {
   "cell_type": "code",
   "execution_count": null,
   "id": "87511ff6",
   "metadata": {},
   "outputs": [],
   "source": [
    "import numpy as np\n",
    "from matplotlib import pyplot as plt\n",
    "from scipy.spatial import Voronoi\n",
    "from skimage.draw import polygon\n",
    "from PIL import Image\n",
    "from noise import snoise3"
   ]
  },
  {
   "cell_type": "code",
   "execution_count": null,
   "id": "68b841cc",
   "metadata": {},
   "outputs": [],
   "source": [
    "size = 1024\n",
    "n = 256\n",
    "map_seed = 762345"
   ]
  },
  {
   "cell_type": "code",
   "execution_count": null,
   "id": "30fa0fcc",
   "metadata": {},
   "outputs": [],
   "source": [
    "np.random.seed(map_seed)"
   ]
  },
  {
   "cell_type": "markdown",
   "id": "bd3dc5a4",
   "metadata": {},
   "source": [
    "# Voronoi diagram"
   ]
  },
  {
   "cell_type": "code",
   "execution_count": null,
   "id": "f7213569",
   "metadata": {},
   "outputs": [],
   "source": [
    "def voronoi(points, size):\n",
    "    # Add points at edges to eliminate infinite ridges\n",
    "    edge_points = size * np.array([[-1, -1], [-1, 2], [2, -1], [2, 2]])\n",
    "    new_points = np.vstack([points, edge_points])\n",
    "\n",
    "    # Calculate Voronoi tessellation\n",
    "    vor = Voronoi(new_points)\n",
    "\n",
    "    return vor\n",
    "\n",
    "\n",
    "def voronoi_map(vor, size):\n",
    "    # Calculate Voronoi map\n",
    "    vor_map = np.zeros((size, size), dtype=np.uint32)\n",
    "\n",
    "    for i, region in enumerate(vor.regions):\n",
    "        # Skip empty regions and infinte ridge regions\n",
    "        if len(region) == 0 or -1 in region:\n",
    "            continue\n",
    "        # Get polygon vertices\n",
    "        x, y = np.array([vor.vertices[i][::-1] for i in region]).T\n",
    "        # Get pixels inside polygon\n",
    "        rr, cc = polygon(x, y)\n",
    "        # Remove pixels out of image bounds\n",
    "        in_box = np.where((0 <= rr) & (rr < size) & (0 <= cc) & (cc < size))\n",
    "        rr, cc = rr[in_box], cc[in_box]\n",
    "        # Paint image\n",
    "        vor_map[rr, cc] = i\n",
    "\n",
    "    return vor_map"
   ]
  },
  {
   "cell_type": "code",
   "execution_count": null,
   "id": "d6aa833f",
   "metadata": {},
   "outputs": [],
   "source": [
    "points = np.random.randint(0, size, (514, 2))\n",
    "vor = voronoi(points, size)\n",
    "vor_map = voronoi_map(vor, size)"
   ]
  },
  {
   "cell_type": "code",
   "execution_count": null,
   "id": "daf12ee6",
   "metadata": {},
   "outputs": [],
   "source": [
    "fig = plt.figure(dpi=150, figsize=(4, 4))\n",
    "plt.scatter(*points.T, s=1)"
   ]
  },
  {
   "cell_type": "markdown",
   "id": "f58ae862",
   "metadata": {},
   "source": [
    "# Lloyd's relaxation"
   ]
  },
  {
   "cell_type": "code",
   "execution_count": null,
   "id": "ae9ba532",
   "metadata": {},
   "outputs": [],
   "source": [
    "def relax(points, size, k=10):\n",
    "    new_points = points.copy()\n",
    "    for _ in range(k):\n",
    "        vor = voronoi(new_points, size)\n",
    "        new_points = []\n",
    "        for i, region in enumerate(vor.regions):\n",
    "            if len(region) == 0 or -1 in region:\n",
    "                continue\n",
    "            poly = np.array([vor.vertices[i] for i in region])\n",
    "            center = poly.mean(axis=0)\n",
    "            new_points.append(center)\n",
    "        new_points = np.array(new_points).clip(0, size)\n",
    "    return new_points"
   ]
  },
  {
   "cell_type": "code",
   "execution_count": null,
   "id": "59c8e6f7",
   "metadata": {},
   "outputs": [],
   "source": [
    "points = relax(points, size, k=100)\n",
    "vor = voronoi(points, size)\n",
    "vor_map = voronoi_map(vor, size)"
   ]
  },
  {
   "cell_type": "code",
   "execution_count": null,
   "id": "799e6834",
   "metadata": {},
   "outputs": [],
   "source": [
    "fig = plt.figure(dpi=150, figsize=(4, 4))\n",
    "plt.scatter(*points.T, s=1)"
   ]
  },
  {
   "cell_type": "markdown",
   "id": "0da52333",
   "metadata": {},
   "source": [
    "# Perlin noise / Simplex noise"
   ]
  },
  {
   "cell_type": "code",
   "execution_count": null,
   "id": "e69cb5a4",
   "metadata": {},
   "outputs": [],
   "source": [
    "def noise_map(size, res, seed, octaves=1, persistence=0.5, lacunarity=2.0):\n",
    "    scale = size / res\n",
    "    return np.array(\n",
    "        [\n",
    "            [\n",
    "                snoise3(\n",
    "                    (x + 0.1) / scale,\n",
    "                    y / scale,\n",
    "                    seed + map_seed,\n",
    "                    octaves=octaves,\n",
    "                    persistence=persistence,\n",
    "                    lacunarity=lacunarity,\n",
    "                )\n",
    "                for x in range(size)\n",
    "            ]\n",
    "            for y in range(size)\n",
    "        ]\n",
    "    )"
   ]
  },
  {
   "cell_type": "markdown",
   "id": "703cf3d3",
   "metadata": {},
   "source": [
    "# Bluring the boundaries"
   ]
  },
  {
   "cell_type": "code",
   "execution_count": null,
   "id": "7a2b96bd",
   "metadata": {},
   "outputs": [],
   "source": [
    "boundary_displacement = 8\n",
    "boundary_noise = np.dstack(\n",
    "    [noise_map(size, 32, 200, octaves=8), noise_map(size, 32, 250, octaves=8)]\n",
    ")\n",
    "boundary_noise = np.indices((size, size)).T + boundary_displacement * boundary_noise\n",
    "boundary_noise = boundary_noise.clip(0, size - 1).astype(np.uint32)\n",
    "\n",
    "blurred_vor_map = np.zeros_like(vor_map)\n",
    "\n",
    "for x in range(size):\n",
    "    for y in range(size):\n",
    "        j, i = boundary_noise[x, y]\n",
    "        blurred_vor_map[x, y] = vor_map[i, j]"
   ]
  },
  {
   "cell_type": "code",
   "execution_count": null,
   "id": "c895a3a6",
   "metadata": {
    "scrolled": true
   },
   "outputs": [],
   "source": [
    "fig, axes = plt.subplots(1, 2)\n",
    "fig.set_dpi(150)\n",
    "fig.set_size_inches(8, 4)\n",
    "axes[0].imshow(vor_map)\n",
    "axes[1].imshow(blurred_vor_map)"
   ]
  },
  {
   "cell_type": "code",
   "execution_count": null,
   "id": "94dc7452",
   "metadata": {},
   "outputs": [],
   "source": [
    "vor_map = blurred_vor_map"
   ]
  },
  {
   "cell_type": "markdown",
   "id": "8d193d77",
   "metadata": {},
   "source": [
    "# Choosing Biomes"
   ]
  },
  {
   "cell_type": "markdown",
   "id": "220f5a14",
   "metadata": {},
   "source": [
    "## Temperature–Precipitation maps"
   ]
  },
  {
   "cell_type": "code",
   "execution_count": null,
   "id": "658b059c",
   "metadata": {},
   "outputs": [],
   "source": [
    "temperature_map = noise_map(size, 2, 10)\n",
    "precipitation_map = noise_map(size, 2, 20)"
   ]
  },
  {
   "cell_type": "code",
   "execution_count": null,
   "id": "313b4ad7",
   "metadata": {},
   "outputs": [],
   "source": [
    "fig, axes = plt.subplots(1, 2)\n",
    "fig.set_dpi(150)\n",
    "fig.set_size_inches(8, 4)\n",
    "\n",
    "axes[0].imshow(temperature_map, cmap=\"rainbow\")\n",
    "axes[0].set_title(\"Temperature Map\")\n",
    "\n",
    "axes[1].imshow(precipitation_map, cmap=\"YlGnBu\")\n",
    "axes[1].set_title(\"Precipitation Map\")"
   ]
  },
  {
   "cell_type": "markdown",
   "id": "e11e8a7b",
   "metadata": {},
   "source": [
    "## Histogram Equalization"
   ]
  },
  {
   "cell_type": "code",
   "execution_count": null,
   "id": "9432f414",
   "metadata": {},
   "outputs": [],
   "source": [
    "fig, axes = plt.subplots(1, 2)\n",
    "fig.set_dpi(150)\n",
    "fig.set_size_inches(8, 4)\n",
    "\n",
    "axes[0].hist(\n",
    "    temperature_map.flatten(), bins=64, color=\"blue\", alpha=0.66, label=\"Precipitation\"\n",
    ")\n",
    "axes[0].hist(\n",
    "    precipitation_map.flatten(), bins=64, color=\"red\", alpha=0.66, label=\"Temperature\"\n",
    ")\n",
    "axes[0].set_xlim(-1, 1)\n",
    "axes[0].legend()\n",
    "\n",
    "hist2d = np.histogram2d(\n",
    "    temperature_map.flatten(),\n",
    "    precipitation_map.flatten(),\n",
    "    bins=(512, 512),\n",
    "    range=((-1, 1), (-1, 1)),\n",
    ")[0]\n",
    "\n",
    "from scipy.special import expit\n",
    "\n",
    "hist2d = np.interp(hist2d, (hist2d.min(), hist2d.max()), (0, 1))\n",
    "hist2d = expit(hist2d / 0.1)\n",
    "\n",
    "axes[1].imshow(hist2d, cmap=\"plasma\")\n",
    "\n",
    "axes[1].set_xticks([0, 128, 256, 385, 511])\n",
    "axes[1].set_xticklabels([-1, -0.5, 0, 0.5, 1])\n",
    "axes[1].set_yticks([0, 128, 256, 385, 511])\n",
    "axes[1].set_yticklabels([1, 0.5, 0, -0.5, -1])"
   ]
  },
  {
   "cell_type": "code",
   "execution_count": null,
   "id": "58cf4298",
   "metadata": {},
   "outputs": [],
   "source": [
    "from skimage import exposure\n",
    "\n",
    "\n",
    "def histeq(img, alpha=1):\n",
    "    img_cdf, bin_centers = exposure.cumulative_distribution(img)\n",
    "    img_eq = np.interp(img, bin_centers, img_cdf)\n",
    "    img_eq = np.interp(img_eq, (0, 1), (-1, 1))\n",
    "    return alpha * img_eq + (1 - alpha) * img"
   ]
  },
  {
   "cell_type": "code",
   "execution_count": null,
   "id": "5c518abc",
   "metadata": {},
   "outputs": [],
   "source": [
    "uniform_temperature_map = histeq(temperature_map, alpha=0.33)\n",
    "uniform_precipitation_map = histeq(precipitation_map, alpha=0.33)"
   ]
  },
  {
   "cell_type": "code",
   "execution_count": null,
   "id": "35c95beb",
   "metadata": {},
   "outputs": [],
   "source": [
    "fig, axes = plt.subplots(1, 2)\n",
    "fig.set_dpi(150)\n",
    "fig.set_size_inches(8, 4)\n",
    "\n",
    "axes[0].hist(\n",
    "    uniform_temperature_map.flatten(),\n",
    "    bins=64,\n",
    "    color=\"blue\",\n",
    "    alpha=0.66,\n",
    "    label=\"Precipitation\",\n",
    ")\n",
    "axes[0].hist(\n",
    "    uniform_precipitation_map.flatten(),\n",
    "    bins=64,\n",
    "    color=\"red\",\n",
    "    alpha=0.66,\n",
    "    label=\"Temperature\",\n",
    ")\n",
    "axes[0].set_xlim(-1, 1)\n",
    "axes[0].legend()\n",
    "\n",
    "hist2d = np.histogram2d(\n",
    "    uniform_temperature_map.flatten(),\n",
    "    uniform_precipitation_map.flatten(),\n",
    "    bins=(512, 512),\n",
    "    range=((-1, 1), (-1, 1)),\n",
    ")[0]\n",
    "\n",
    "from scipy.special import expit\n",
    "\n",
    "hist2d = np.interp(hist2d, (hist2d.min(), hist2d.max()), (0, 1))\n",
    "hist2d = expit(hist2d / 0.1)\n",
    "\n",
    "axes[1].imshow(hist2d, cmap=\"plasma\")\n",
    "\n",
    "axes[1].set_xticks([0, 128, 256, 385, 511])\n",
    "axes[1].set_xticklabels([-1, -0.5, 0, 0.5, 1])\n",
    "axes[1].set_yticks([0, 128, 256, 385, 511])\n",
    "axes[1].set_yticklabels([1, 0.5, 0, -0.5, -1])"
   ]
  },
  {
   "cell_type": "code",
   "execution_count": null,
   "id": "46045e95",
   "metadata": {},
   "outputs": [],
   "source": [
    "temperature_map = uniform_temperature_map\n",
    "precipitation_map = uniform_precipitation_map"
   ]
  },
  {
   "cell_type": "markdown",
   "id": "aef6de4d",
   "metadata": {},
   "source": [
    "## Averaging Cells"
   ]
  },
  {
   "cell_type": "code",
   "execution_count": null,
   "id": "5b0dd9aa",
   "metadata": {},
   "outputs": [],
   "source": [
    "def average_cells(vor, data):\n",
    "    \"\"\"Returns the average value of data inside every voronoi cell\"\"\"\n",
    "    size = vor.shape[0]\n",
    "    count = np.max(vor) + 1\n",
    "\n",
    "    sum_ = np.zeros(count)\n",
    "    count = np.zeros(count)\n",
    "\n",
    "    for i in range(size):\n",
    "        for j in range(size):\n",
    "            p = vor[i, j]\n",
    "            count[p] += 1\n",
    "            sum_[p] += data[i, j]\n",
    "\n",
    "    average = sum_ / count\n",
    "    average[count == 0] = 0\n",
    "\n",
    "    return average\n",
    "\n",
    "\n",
    "def fill_cells(vor, data):\n",
    "    size = vor.shape[0]\n",
    "    image = np.zeros((size, size))\n",
    "\n",
    "    for i in range(size):\n",
    "        for j in range(size):\n",
    "            p = vor[i, j]\n",
    "            image[i, j] = data[p]\n",
    "\n",
    "    return image\n",
    "\n",
    "\n",
    "def color_cells(vor, data, dtype=int):\n",
    "    size = vor.shape[0]\n",
    "    image = np.zeros((size, size, 3))\n",
    "\n",
    "    for i in range(size):\n",
    "        for j in range(size):\n",
    "            p = vor[i, j]\n",
    "            image[i, j] = data[p]\n",
    "\n",
    "    return image.astype(dtype)"
   ]
  },
  {
   "cell_type": "code",
   "execution_count": null,
   "id": "4068488e",
   "metadata": {},
   "outputs": [],
   "source": [
    "temperature_cells = average_cells(vor_map, temperature_map)\n",
    "precipitation_cells = average_cells(vor_map, precipitation_map)\n",
    "\n",
    "temperature_map = fill_cells(vor_map, temperature_cells)\n",
    "precipitation_map = fill_cells(vor_map, precipitation_cells)"
   ]
  },
  {
   "cell_type": "code",
   "execution_count": null,
   "id": "1093f5a5",
   "metadata": {},
   "outputs": [],
   "source": [
    "fig, ax = plt.subplots(1, 2)\n",
    "fig.set_dpi(150)\n",
    "fig.set_size_inches(8, 4)\n",
    "\n",
    "ax[0].imshow(temperature_map, cmap=\"rainbow\")\n",
    "ax[0].set_title(\"Temperature\")\n",
    "\n",
    "ax[1].imshow(precipitation_map, cmap=\"Blues\")\n",
    "ax[1].set_title(\"Precipitation\")"
   ]
  },
  {
   "cell_type": "markdown",
   "id": "1e5a41ec",
   "metadata": {},
   "source": [
    "## Quantization"
   ]
  },
  {
   "cell_type": "code",
   "execution_count": null,
   "id": "78530c5a",
   "metadata": {},
   "outputs": [],
   "source": [
    "def quantize(data, n):\n",
    "    bins = np.linspace(-1, 1, n + 1)\n",
    "    return (np.digitize(data, bins) - 1).clip(0, n - 1)\n",
    "\n",
    "\n",
    "n = 256\n",
    "\n",
    "quantize_temperature_cells = quantize(temperature_cells, n)\n",
    "quantize_precipitation_cells = quantize(precipitation_cells, n)\n",
    "\n",
    "quantize_temperature_map = fill_cells(vor_map, quantize_temperature_cells)\n",
    "quantize_precipitation_map = fill_cells(vor_map, quantize_precipitation_cells)"
   ]
  },
  {
   "cell_type": "code",
   "execution_count": null,
   "id": "ef187ab5",
   "metadata": {},
   "outputs": [],
   "source": [
    "temperature_cells = quantize_temperature_cells\n",
    "precipitation_cells = quantize_precipitation_cells\n",
    "\n",
    "temperature_map = quantize_temperature_map\n",
    "precipitation_map = quantize_precipitation_map"
   ]
  },
  {
   "cell_type": "markdown",
   "id": "1bac57ae",
   "metadata": {},
   "source": [
    "## Temperature–Precipitation graph"
   ]
  },
  {
   "cell_type": "code",
   "execution_count": null,
   "id": "406b6c9f",
   "metadata": {},
   "outputs": [],
   "source": [
    "im = np.array(Image.open(\"output/TP_map.png\"))[:, :, :3]\n",
    "biomes = np.zeros((256, 256))\n",
    "\n",
    "biome_names = [\n",
    "    \"desert\",\n",
    "    \"savanna\",\n",
    "    \"tropical_woodland\",\n",
    "    \"tundra\",\n",
    "    \"seasonal_forest\",\n",
    "    \"rainforest\",\n",
    "    \"temperate_forest\",\n",
    "    \"temperate_rainforest\",\n",
    "    \"boreal_forest\",\n",
    "]\n",
    "biome_colors = [\n",
    "    [255, 255, 178],\n",
    "    [184, 200, 98],\n",
    "    [188, 161, 53],\n",
    "    [190, 255, 242],\n",
    "    [106, 144, 38],\n",
    "    [33, 77, 41],\n",
    "    [86, 179, 106],\n",
    "    [34, 61, 53],\n",
    "    [35, 114, 94],\n",
    "]\n",
    "\n",
    "for i, color in enumerate(biome_colors):\n",
    "    indices = np.where(np.all(im == color, axis=-1))\n",
    "    biomes[indices] = i\n",
    "\n",
    "biomes = np.flip(biomes, axis=0).T"
   ]
  },
  {
   "cell_type": "code",
   "execution_count": null,
   "id": "76ba84b8",
   "metadata": {},
   "outputs": [],
   "source": [
    "fig = plt.figure(dpi=150, figsize=(4, 4))\n",
    "plt.imshow(biomes)\n",
    "plt.title(\"Temperature–Precipitation graph\")"
   ]
  },
  {
   "cell_type": "markdown",
   "id": "e490e386",
   "metadata": {},
   "source": [
    "## Biome map"
   ]
  },
  {
   "cell_type": "code",
   "execution_count": null,
   "id": "c331d44e",
   "metadata": {},
   "outputs": [],
   "source": [
    "n = len(temperature_cells)\n",
    "biome_cells = np.zeros(n, dtype=np.uint32)\n",
    "\n",
    "for i in range(n):\n",
    "    temp, precip = temperature_cells[i], precipitation_cells[i]\n",
    "    biome_cells[i] = biomes[temp, precip]\n",
    "\n",
    "biome_map = fill_cells(vor_map, biome_cells).astype(np.uint32)\n",
    "biome_color_map = color_cells(biome_map, biome_colors)"
   ]
  },
  {
   "cell_type": "code",
   "execution_count": null,
   "id": "689422fd",
   "metadata": {},
   "outputs": [],
   "source": [
    "fig = plt.figure(figsize=(5, 5), dpi=150)\n",
    "plt.imshow(biome_color_map)"
   ]
  },
  {
   "cell_type": "markdown",
   "id": "9eb86a13",
   "metadata": {},
   "source": [
    "# Height Map"
   ]
  },
  {
   "cell_type": "code",
   "execution_count": null,
   "id": "e0b682fa",
   "metadata": {},
   "outputs": [],
   "source": [
    "height_map = noise_map(size, 4, 0, octaves=6, persistence=0.5, lacunarity=2)\n",
    "land_mask = height_map > 0"
   ]
  },
  {
   "cell_type": "code",
   "execution_count": null,
   "id": "ccd38b3c",
   "metadata": {},
   "outputs": [],
   "source": [
    "fig = plt.figure(dpi=150, figsize=(5, 5))\n",
    "plt.imshow(land_mask, cmap=\"gray\")"
   ]
  },
  {
   "cell_type": "code",
   "execution_count": null,
   "id": "041398f7",
   "metadata": {},
   "outputs": [],
   "source": [
    "sea_color = np.array([12, 14, 255])\n",
    "land_mask_color = np.repeat(land_mask[:, :, np.newaxis], 3, axis=-1)\n",
    "masked_biome_color_map = (\n",
    "    land_mask_color * biome_color_map + (1 - land_mask_color) * sea_color\n",
    ")"
   ]
  },
  {
   "cell_type": "code",
   "execution_count": null,
   "id": "c4539f15",
   "metadata": {},
   "outputs": [],
   "source": [
    "fig = plt.figure(dpi=150, figsize=(5, 5))\n",
    "plt.imshow(masked_biome_color_map)"
   ]
  },
  {
   "cell_type": "code",
   "execution_count": null,
   "id": "83c6c9ba",
   "metadata": {},
   "outputs": [],
   "source": [
    "# https://github.com/Mehdi-Antoine/NormalMapGenerator\n",
    "\n",
    "from scipy import ndimage\n",
    "\n",
    "\n",
    "def gradient(im_smooth):\n",
    "    gradient_x = im_smooth.astype(float)\n",
    "    gradient_y = im_smooth.astype(float)\n",
    "\n",
    "    kernel = np.arange(-1, 2).astype(float)\n",
    "    kernel = -kernel / 2\n",
    "\n",
    "    gradient_x = ndimage.convolve(gradient_x, kernel[np.newaxis])\n",
    "    gradient_y = ndimage.convolve(gradient_y, kernel[np.newaxis].T)\n",
    "\n",
    "    return gradient_x, gradient_y\n",
    "\n",
    "\n",
    "def sobel(im_smooth):\n",
    "    gradient_x = im_smooth.astype(float)\n",
    "    gradient_y = im_smooth.astype(float)\n",
    "\n",
    "    kernel = np.array([[-1, 0, 1], [-2, 0, 2], [-1, 0, 1]])\n",
    "\n",
    "    gradient_x = ndimage.convolve(gradient_x, kernel)\n",
    "    gradient_y = ndimage.convolve(gradient_y, kernel.T)\n",
    "\n",
    "    return gradient_x, gradient_y\n",
    "\n",
    "\n",
    "def compute_normal_map(gradient_x, gradient_y, intensity=1):\n",
    "    width = gradient_x.shape[1]\n",
    "    height = gradient_x.shape[0]\n",
    "    max_x = np.max(gradient_x)\n",
    "    max_y = np.max(gradient_y)\n",
    "\n",
    "    max_value = max_x\n",
    "\n",
    "    if max_y > max_x:\n",
    "        max_value = max_y\n",
    "\n",
    "    normal_map = np.zeros((height, width, 3), dtype=np.float32)\n",
    "\n",
    "    intensity = 1 / intensity\n",
    "\n",
    "    strength = max_value / (max_value * intensity)\n",
    "\n",
    "    normal_map[..., 0] = gradient_x / max_value\n",
    "    normal_map[..., 1] = gradient_y / max_value\n",
    "    normal_map[..., 2] = 1 / strength\n",
    "\n",
    "    norm = np.sqrt(\n",
    "        np.power(normal_map[..., 0], 2)\n",
    "        + np.power(normal_map[..., 1], 2)\n",
    "        + np.power(normal_map[..., 2], 2)\n",
    "    )\n",
    "\n",
    "    normal_map[..., 0] /= norm\n",
    "    normal_map[..., 1] /= norm\n",
    "    normal_map[..., 2] /= norm\n",
    "\n",
    "    normal_map *= 0.5\n",
    "    normal_map += 0.5\n",
    "\n",
    "    return normal_map\n",
    "\n",
    "\n",
    "def get_normal_map(im, intensity=1.0):\n",
    "    sobel_x, sobel_y = sobel(im)\n",
    "    normal_map = compute_normal_map(sobel_x, sobel_y, intensity)\n",
    "    return normal_map\n",
    "\n",
    "\n",
    "def get_normal_light(height_map_):\n",
    "    normal_map_ = get_normal_map(height_map_)[:, :, 0:2].mean(axis=2)\n",
    "    normal_map_ = np.interp(normal_map_, (0, 1), (-1, 1))\n",
    "    return normal_map_\n",
    "\n",
    "\n",
    "def apply_height_map(im_map, smooth_map, height_map, land_mask):\n",
    "    normal_map = get_normal_light(height_map)\n",
    "    normal_map = normal_map * land_mask + smooth_map / 2 * (~land_mask)\n",
    "\n",
    "    normal_map = np.interp(normal_map, (-1, 1), (-192, 192))\n",
    "\n",
    "    normal_map_color = np.repeat(normal_map[:, :, np.newaxis], 3, axis=-1)\n",
    "    normal_map_color = normal_map_color.astype(int)\n",
    "\n",
    "    out_map = im_map + normal_map_color\n",
    "    return out_map, normal_map"
   ]
  },
  {
   "cell_type": "code",
   "execution_count": null,
   "id": "452703a2",
   "metadata": {},
   "outputs": [],
   "source": [
    "biome_height_map, normal_map = apply_height_map(\n",
    "    masked_biome_color_map, height_map, height_map, land_mask\n",
    ")\n",
    "\n",
    "fig, ax = plt.subplots(1, 2)\n",
    "fig.set_dpi(150)\n",
    "fig.set_size_inches(10, 5)\n",
    "\n",
    "ax[0].imshow(masked_biome_color_map)\n",
    "ax[0].set_title(\"Biomes\")\n",
    "\n",
    "ax[1].imshow(biome_height_map)\n",
    "ax[1].set_title(\"Biomes with normal\")"
   ]
  },
  {
   "cell_type": "markdown",
   "id": "525159ad",
   "metadata": {},
   "source": [
    "## Height Map Detail"
   ]
  },
  {
   "cell_type": "code",
   "execution_count": null,
   "id": "b1971fd0",
   "metadata": {},
   "outputs": [],
   "source": [
    "height_map = noise_map(size, 4, 0, octaves=6, persistence=0.5, lacunarity=2)\n",
    "smooth_height_map = noise_map(size, 4, 0, octaves=1, persistence=0.5, lacunarity=2)"
   ]
  },
  {
   "cell_type": "code",
   "execution_count": null,
   "id": "b8362745",
   "metadata": {},
   "outputs": [],
   "source": [
    "fig, ax = plt.subplots(1, 2)\n",
    "fig.set_dpi(150)\n",
    "fig.set_size_inches(10, 5)\n",
    "\n",
    "ax[0].imshow(height_map, cmap=\"gray\")\n",
    "ax[0].set_title(\"Height Map\")\n",
    "\n",
    "ax[1].imshow(smooth_height_map, cmap=\"gray\")\n",
    "ax[1].set_title(\"Smooth Height Map\")"
   ]
  },
  {
   "cell_type": "markdown",
   "id": "df3bba09",
   "metadata": {},
   "source": [
    "## Height Map Filters"
   ]
  },
  {
   "cell_type": "markdown",
   "id": "2634f2d0",
   "metadata": {},
   "source": [
    "### Bézier Curves"
   ]
  },
  {
   "cell_type": "code",
   "execution_count": null,
   "id": "45921a5e",
   "metadata": {},
   "outputs": [],
   "source": [
    "def bezier(x1, y1, x2, y2, a):\n",
    "    p1 = np.array([0, 0])\n",
    "    p2 = np.array([x1, y1])\n",
    "    p3 = np.array([x2, y2])\n",
    "    p4 = np.array([1, a])\n",
    "\n",
    "    return lambda t: (\n",
    "        (1 - t) ** 3 * p1\n",
    "        + 3 * (1 - t) ** 2 * t * p2\n",
    "        + 3 * (1 - t) * t**2 * p3\n",
    "        + t**3 * p4\n",
    "    )"
   ]
  },
  {
   "cell_type": "code",
   "execution_count": null,
   "id": "610cb7a3",
   "metadata": {},
   "outputs": [],
   "source": [
    "from scipy.interpolate import interp1d\n",
    "\n",
    "\n",
    "def bezier_lut(x1, y1, x2, y2, a):\n",
    "    t = np.linspace(0, 1, 256)\n",
    "    f = bezier(x1, y1, x2, y2, a)\n",
    "    curve = np.array([f(t_) for t_ in t])\n",
    "\n",
    "    return interp1d(*curve.T)\n",
    "\n",
    "\n",
    "def filter_map(h_map, smooth_h_map, x1, y1, x2, y2, a, b):\n",
    "    f = bezier_lut(x1, y1, x2, y2, a)\n",
    "    output_map = b * h_map + (1 - b) * smooth_h_map\n",
    "    output_map = f(output_map.clip(0, 1))\n",
    "    return output_map"
   ]
  },
  {
   "cell_type": "code",
   "execution_count": null,
   "id": "1d9d8d30",
   "metadata": {},
   "outputs": [],
   "source": [
    "# f = bezier_lut(0.8, 0.1, 0.9, 0.05, 0.05)\n",
    "# t = np.linspace(0, 1, 1000)\n",
    "# y = f(t)\n",
    "\n",
    "# from matplotlib.gridspec import GridSpec\n",
    "\n",
    "# fig = plt.figure(dpi=120, figsize=(8, 8/3))\n",
    "# gs = GridSpec(1, 3)\n",
    "\n",
    "# ax1 = plt.subplot(gs[:,:1])\n",
    "# ax1.plot(t, y)\n",
    "# ax1.set_xlim(0, 1)\n",
    "# ax1.set_ylim(0, 1)\n",
    "# ax1.set_title(\"Boreal Filter\")\n",
    "\n",
    "# ax2 = plt.subplot(gs[:,1:])\n",
    "# ax2.plot(height_map[100].clip(0, 1))\n",
    "# ax2.plot(boreal_map[100])\n",
    "# ax2.set_ylim(0, 1)\n",
    "# ax2.set_title(\"Example\")\n",
    "\n",
    "# plt.savefig(\"figures/figure_13/9.jpg\")"
   ]
  },
  {
   "cell_type": "markdown",
   "id": "190de016",
   "metadata": {},
   "source": [
    "### Filters"
   ]
  },
  {
   "cell_type": "code",
   "execution_count": null,
   "id": "d7ca3f1f",
   "metadata": {},
   "outputs": [],
   "source": [
    "biome_height_maps = [\n",
    "    # Desert\n",
    "    filter_map(height_map, smooth_height_map, 0.75, 0.2, 0.95, 0.2, 0.2, 0.5),\n",
    "    # Savanna\n",
    "    filter_map(height_map, smooth_height_map, 0.5, 0.1, 0.95, 0.1, 0.1, 0.2),\n",
    "    # Tropical Woodland\n",
    "    filter_map(height_map, smooth_height_map, 0.33, 0.33, 0.95, 0.1, 0.1, 0.75),\n",
    "    # Tundra\n",
    "    filter_map(height_map, smooth_height_map, 0.5, 1, 0.25, 1, 1, 1),\n",
    "    # Seasonal Forest\n",
    "    filter_map(height_map, smooth_height_map, 0.75, 0.5, 0.4, 0.4, 0.33, 0.2),\n",
    "    # Rainforest\n",
    "    filter_map(height_map, smooth_height_map, 0.5, 0.25, 0.66, 1, 1, 0.5),\n",
    "    # Temperate forest\n",
    "    filter_map(height_map, smooth_height_map, 0.75, 0.5, 0.4, 0.4, 0.33, 0.33),\n",
    "    # Temperate Rainforest\n",
    "    filter_map(height_map, smooth_height_map, 0.75, 0.5, 0.4, 0.4, 0.33, 0.33),\n",
    "    # Boreal\n",
    "    filter_map(height_map, smooth_height_map, 0.8, 0.1, 0.9, 0.05, 0.05, 0.1),\n",
    "]"
   ]
  },
  {
   "cell_type": "markdown",
   "id": "876774b7",
   "metadata": {},
   "source": [
    "### Biome masks"
   ]
  },
  {
   "cell_type": "code",
   "execution_count": null,
   "id": "e9326d69",
   "metadata": {},
   "outputs": [],
   "source": [
    "from scipy.ndimage.filters import gaussian_filter\n",
    "from scipy.ndimage.morphology import binary_dilation\n",
    "\n",
    "biome_count = len(biome_names)\n",
    "biome_masks = np.zeros((biome_count, size, size))\n",
    "\n",
    "for i in range(biome_count):\n",
    "    biome_masks[i, biome_map == i] = 1\n",
    "    biome_masks[i] = gaussian_filter(biome_masks[i], sigma=16)\n",
    "\n",
    "# Remove ocean from masks\n",
    "blurred_land_mask = land_mask\n",
    "blurred_land_mask = binary_dilation(land_mask, iterations=32).astype(np.float64)\n",
    "blurred_land_mask = gaussian_filter(blurred_land_mask, sigma=16)\n",
    "\n",
    "biome_masks = biome_masks * blurred_land_mask"
   ]
  },
  {
   "cell_type": "code",
   "execution_count": null,
   "id": "31522045",
   "metadata": {},
   "outputs": [],
   "source": [
    "plt.figure(dpi=150, figsize=(5, 5))\n",
    "plt.imshow(biome_masks[6], cmap=\"gray\")"
   ]
  },
  {
   "cell_type": "markdown",
   "id": "747cc88c",
   "metadata": {},
   "source": [
    "### Applying Filters"
   ]
  },
  {
   "cell_type": "code",
   "execution_count": null,
   "id": "50360601",
   "metadata": {},
   "outputs": [],
   "source": [
    "adjusted_height_map = height_map.copy()\n",
    "\n",
    "for i in range(len(biome_height_maps)):\n",
    "    adjusted_height_map = (1 - biome_masks[i]) * adjusted_height_map + biome_masks[\n",
    "        i\n",
    "    ] * biome_height_maps[i]"
   ]
  },
  {
   "cell_type": "code",
   "execution_count": null,
   "id": "42abe3d4",
   "metadata": {},
   "outputs": [],
   "source": [
    "biome_height_map = apply_height_map(\n",
    "    masked_biome_color_map, height_map, height_map, land_mask\n",
    ")\n",
    "new_biome_height_map = apply_height_map(\n",
    "    masked_biome_color_map, adjusted_height_map, adjusted_height_map, land_mask\n",
    ")\n",
    "\n",
    "fig, ax = plt.subplots(1, 2)\n",
    "fig.set_dpi(150)\n",
    "fig.set_size_inches(10, 5)\n",
    "\n",
    "ax[0].imshow(adjusted_height_map)\n",
    "ax[0].set_title(\"Before\")\n",
    "\n",
    "ax[1].imshow(new_biome_height_map[0])\n",
    "ax[1].set_title(\"After\")"
   ]
  },
  {
   "cell_type": "markdown",
   "id": "d686d4c9",
   "metadata": {},
   "source": [
    "# Rivers"
   ]
  },
  {
   "cell_type": "markdown",
   "id": "f1af9ed7",
   "metadata": {},
   "source": [
    "## Boundaries"
   ]
  },
  {
   "cell_type": "code",
   "execution_count": null,
   "id": "da069a29",
   "metadata": {},
   "outputs": [],
   "source": [
    "def get_boundary(vor_map, kernel=1):\n",
    "    boundary_map = np.zeros_like(vor_map, dtype=bool)\n",
    "    n, m = vor_map.shape\n",
    "\n",
    "    clip = lambda x: max(0, min(size - 1, x))\n",
    "\n",
    "    def check_for_mult(a):\n",
    "        b = a[0]\n",
    "        for i in range(len(a) - 1):\n",
    "            if a[i] != b:\n",
    "                return 1\n",
    "        return 0\n",
    "\n",
    "    for i in range(n):\n",
    "        for j in range(m):\n",
    "            boundary_map[i, j] = check_for_mult(\n",
    "                vor_map[\n",
    "                    clip(i - kernel) : clip(i + kernel + 1),\n",
    "                    clip(j - kernel) : clip(j + kernel + 1),\n",
    "                ].flatten()\n",
    "            )\n",
    "\n",
    "    return boundary_map"
   ]
  },
  {
   "cell_type": "code",
   "execution_count": null,
   "id": "64b8248d",
   "metadata": {},
   "outputs": [],
   "source": [
    "biome_bound = get_boundary(biome_map, kernel=5)\n",
    "cell_bound = get_boundary(vor_map, kernel=2)"
   ]
  },
  {
   "cell_type": "code",
   "execution_count": null,
   "id": "c74fbcc2",
   "metadata": {},
   "outputs": [],
   "source": [
    "river_mask = noise_map(size, 4, 4353, octaves=6, persistence=0.5, lacunarity=2) > 0\n",
    "\n",
    "new_biome_bound = biome_bound * (adjusted_height_map < 0.5) * land_mask\n",
    "new_cell_bound = cell_bound * (adjusted_height_map < 0.05) * land_mask\n",
    "\n",
    "rivers = np.logical_or(new_biome_bound, new_cell_bound) * river_mask"
   ]
  },
  {
   "cell_type": "code",
   "execution_count": null,
   "id": "b76a7ced",
   "metadata": {},
   "outputs": [],
   "source": [
    "loose_river_mask = binary_dilation(rivers, iterations=8)\n",
    "rivers_height = gaussian_filter(rivers.astype(np.float64), sigma=2) * loose_river_mask"
   ]
  },
  {
   "cell_type": "code",
   "execution_count": null,
   "id": "1006ab38",
   "metadata": {},
   "outputs": [],
   "source": [
    "adjusted_height_river_map = adjusted_height_map * (1 - rivers_height) - 0.05 * rivers"
   ]
  },
  {
   "cell_type": "code",
   "execution_count": null,
   "id": "325d8eba",
   "metadata": {},
   "outputs": [],
   "source": [
    "river_land_mask = adjusted_height_river_map >= 0\n",
    "land_mask_color = np.repeat(river_land_mask[:, :, np.newaxis], 3, axis=-1)\n",
    "rivers_biome_color_map = (\n",
    "    land_mask_color * biome_color_map + (1 - land_mask_color) * sea_color\n",
    ")\n",
    "\n",
    "plt.figure(dpi=150, figsize=(5, 5))\n",
    "plt.imshow(rivers_biome_color_map)"
   ]
  },
  {
   "cell_type": "code",
   "execution_count": null,
   "id": "2fe5629c",
   "metadata": {},
   "outputs": [],
   "source": [
    "# color_map = apply_height_map(rivers_biome_color_map, adjusted_height_river_map, adjusted_height_river_map, river_land_mask)\n",
    "# plt.imshow(color_map[0])\n",
    "\n",
    "# im = Image.fromarray(color_map[0].clip(0, 255).astype(np.uint8))\n",
    "# im.save(\"figures/10.png\")"
   ]
  },
  {
   "cell_type": "markdown",
   "id": "f23eae42",
   "metadata": {},
   "source": [
    "# Trees and Vegetation"
   ]
  },
  {
   "cell_type": "code",
   "execution_count": null,
   "id": "c3a55c06",
   "metadata": {},
   "outputs": [],
   "source": [
    "def filter_inbox(pts):\n",
    "    inidx = np.all(pts < size, axis=1)\n",
    "    return pts[inidx]\n",
    "\n",
    "\n",
    "def generate_trees(n):\n",
    "    trees = np.random.randint(0, size - 1, (n, 2))\n",
    "    trees = relax(trees, size, k=10).astype(np.uint32)\n",
    "    trees = filter_inbox(trees)\n",
    "    return trees"
   ]
  },
  {
   "cell_type": "code",
   "execution_count": null,
   "id": "14172655",
   "metadata": {},
   "outputs": [],
   "source": [
    "# Example\n",
    "low_density_trees = generate_trees(1000)\n",
    "medium_density_trees = generate_trees(5000)\n",
    "high_density_trees = generate_trees(25000)"
   ]
  },
  {
   "cell_type": "code",
   "execution_count": null,
   "id": "849697df",
   "metadata": {},
   "outputs": [],
   "source": [
    "plt.figure(dpi=150, figsize=(10, 3))\n",
    "plt.subplot(131)\n",
    "plt.scatter(*low_density_trees.T, s=1)\n",
    "plt.title(\"Low Density Trees\")\n",
    "plt.xlim(0, 256)\n",
    "plt.ylim(0, 256)\n",
    "\n",
    "plt.subplot(132)\n",
    "plt.scatter(*medium_density_trees.T, s=1)\n",
    "plt.title(\"Medium Density Trees\")\n",
    "plt.xlim(0, 256)\n",
    "plt.ylim(0, 256)\n",
    "\n",
    "plt.subplot(133)\n",
    "plt.scatter(*high_density_trees.T, s=1)\n",
    "plt.title(\"High Density Trees\")\n",
    "plt.xlim(0, 256)\n",
    "plt.ylim(0, 256)"
   ]
  },
  {
   "cell_type": "code",
   "execution_count": null,
   "id": "45381046",
   "metadata": {},
   "outputs": [],
   "source": [
    "def place_trees(n, mask, a=0.5):\n",
    "    trees = generate_trees(n)\n",
    "    rr, cc = trees.T\n",
    "\n",
    "    output_trees = np.zeros((size, size), dtype=bool)\n",
    "    output_trees[rr, cc] = True\n",
    "    output_trees = (\n",
    "        output_trees * (mask > a) * river_land_mask * (adjusted_height_river_map < 0.5)\n",
    "    )\n",
    "\n",
    "    output_trees = np.array(np.where(output_trees == 1))[::-1].T\n",
    "    return output_trees"
   ]
  },
  {
   "cell_type": "code",
   "execution_count": null,
   "id": "19961e34",
   "metadata": {},
   "outputs": [],
   "source": [
    "tree_densities = [4000, 1500, 8000, 1000, 10000, 25000, 10000, 20000, 5000]\n",
    "trees = [\n",
    "    np.array(place_trees(tree_densities[i], biome_masks[i]))\n",
    "    for i in range(len(biome_names))\n",
    "]"
   ]
  },
  {
   "cell_type": "code",
   "execution_count": null,
   "id": "88904c0f",
   "metadata": {},
   "outputs": [],
   "source": [
    "color_map = apply_height_map(\n",
    "    rivers_biome_color_map,\n",
    "    adjusted_height_river_map,\n",
    "    adjusted_height_river_map,\n",
    "    river_land_mask,\n",
    ")\n",
    "\n",
    "plt.figure(dpi=150, figsize=(5, 5))\n",
    "for k in range(len(biome_names)):\n",
    "    plt.scatter(*trees[k].T, s=0.15, c=\"red\")\n",
    "\n",
    "plt.imshow(color_map[0])"
   ]
  }
 ],
 "metadata": {
  "kernelspec": {
   "display_name": "minecraft-gen",
   "language": "python",
   "name": "minecraft-gen"
  },
  "language_info": {
   "codemirror_mode": {
    "name": "ipython",
    "version": 3
   },
   "file_extension": ".py",
   "mimetype": "text/x-python",
   "name": "python",
   "nbconvert_exporter": "python",
   "pygments_lexer": "ipython3",
   "version": "3.11.5"
  }
 },
 "nbformat": 4,
 "nbformat_minor": 5
}
